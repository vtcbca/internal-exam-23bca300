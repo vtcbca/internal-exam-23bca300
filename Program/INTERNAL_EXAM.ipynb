{
 "cells": [
  {
   "cell_type": "markdown",
   "id": "6302fdb7-5dfc-4729-b2ea-bd0bae80a9f3",
   "metadata": {},
   "source": [
    "### PROGRAM NO:-8 {Create table cricketer(cid, cname, match, run) and insert 8 players records. Print player records with average.  and \n",
    "### write this data into player.csv file. Do all this task from python}."
   ]
  },
  {
   "cell_type": "code",
   "execution_count": 10,
   "id": "9d2087a1-319a-4b39-becc-a8f7e454fcc6",
   "metadata": {},
   "outputs": [],
   "source": [
    "import csv"
   ]
  },
  {
   "cell_type": "code",
   "execution_count": 1,
   "id": "1aa26a4a-1968-49c0-9bce-5cd27818ecd1",
   "metadata": {},
   "outputs": [],
   "source": [
    "import sqlite3 as sq"
   ]
  },
  {
   "cell_type": "code",
   "execution_count": 2,
   "id": "fc705302-e12e-45fc-9aad-ef1af7e360ad",
   "metadata": {},
   "outputs": [],
   "source": [
    "con=sq.connect(\"C:/BCA/sqlite3/database/cricket.db\")"
   ]
  },
  {
   "cell_type": "code",
   "execution_count": 3,
   "id": "42abb0c7-565b-4b63-b9e3-ba9407a1d7ee",
   "metadata": {},
   "outputs": [],
   "source": [
    "c=con.cursor()"
   ]
  },
  {
   "cell_type": "markdown",
   "id": "0b4d56ff-5df3-4d77-9c44-27de0379f523",
   "metadata": {},
   "source": [
    "### CREATE TABLE"
   ]
  },
  {
   "cell_type": "code",
   "execution_count": 4,
   "id": "b7553545-447f-4450-ac73-9e234e8548ff",
   "metadata": {},
   "outputs": [
    {
     "data": {
      "text/plain": [
       "<sqlite3.Cursor at 0x22145e95740>"
      ]
     },
     "execution_count": 4,
     "metadata": {},
     "output_type": "execute_result"
    }
   ],
   "source": [
    "c.execute(\"create table if not exists cricketer(cid,cname,matches,run)\")"
   ]
  },
  {
   "cell_type": "markdown",
   "id": "fb36b545-f22e-4393-8217-257368a5ec4a",
   "metadata": {},
   "source": [
    "### INSERT RECORD"
   ]
  },
  {
   "cell_type": "code",
   "execution_count": 5,
   "id": "7cb01687-aa8b-49b5-8a36-098d28512767",
   "metadata": {},
   "outputs": [
    {
     "data": {
      "text/plain": [
       "<sqlite3.Cursor at 0x22145e95740>"
      ]
     },
     "execution_count": 5,
     "metadata": {},
     "output_type": "execute_result"
    }
   ],
   "source": [
    "c.execute(\"insert into cricketer values(1,'virat kohli',78,15000),(2,'rohit sharama',56,7800),(3,'kl rahul',45,5000),(4,'sikhar dhawan',55,8000),\\\n",
    "            (5,'suresh raina',57,7800),(6,'sacin tendulkar',89,13000),(7,'david warner',49,12000),(8,'martin guptil',60,13500)\")"
   ]
  },
  {
   "cell_type": "code",
   "execution_count": null,
   "id": "586ee05c-e765-43bf-9c2d-b83b0eba0845",
   "metadata": {},
   "outputs": [],
   "source": [
    "### PRINT PLAYERS RECORDS WITH  "
   ]
  },
  {
   "cell_type": "code",
   "execution_count": 12,
   "id": "477d3ce7-0466-4aa3-b762-efbcf2ddd66d",
   "metadata": {},
   "outputs": [
    {
     "name": "stdout",
     "output_type": "stream",
     "text": [
      "(1, 'virat kohli', 78, 15000, 192)\n",
      "(2, 'rohit sharama', 56, 7800, 139)\n",
      "(3, 'kl rahul', 45, 5000, 111)\n",
      "(4, 'sikhar dhawan', 55, 8000, 145)\n",
      "(5, 'suresh raina', 57, 7800, 136)\n",
      "(6, 'sacin tendulkar', 89, 13000, 146)\n",
      "(7, 'david warner', 49, 12000, 244)\n",
      "(8, 'martin guptil', 60, 13500, 225)\n"
     ]
    }
   ],
   "source": [
    "c.execute(\"select * ,run/matches as average from cricketer\")\n",
    "rows=c.fetchall()\n",
    "for row in rows:\n",
    "    print(row)"
   ]
  },
  {
   "cell_type": "code",
   "execution_count": 13,
   "id": "d361ef7b-12e2-4208-a15b-c3ca6efc4492",
   "metadata": {},
   "outputs": [],
   "source": [
    "with open(\"C:/BCA/sqlite3/CSV/player.csv\",\"w\") as csv_file:\n",
    "    w=csv.writer(csv_file)\n",
    "    w.writerow(['cid','cname','matches','run','average'])\n",
    "    for row in rows:\n",
    "        w.writerow(row)"
   ]
  },
  {
   "cell_type": "code",
   "execution_count": null,
   "id": "90d5b050-b4d8-49e1-87f9-5cfea6b7f9c1",
   "metadata": {},
   "outputs": [],
   "source": []
  },
  {
   "cell_type": "code",
   "execution_count": null,
   "id": "a882a9d3-896f-4975-aa9e-fc7b3449b3a9",
   "metadata": {},
   "outputs": [],
   "source": []
  },
  {
   "cell_type": "code",
   "execution_count": null,
   "id": "ec96904f-7490-4703-9e9c-7deadac1ea63",
   "metadata": {},
   "outputs": [],
   "source": []
  },
  {
   "cell_type": "code",
   "execution_count": null,
   "id": "e19c56f9-c0db-4097-9187-d041f29b0171",
   "metadata": {},
   "outputs": [],
   "source": []
  },
  {
   "cell_type": "code",
   "execution_count": null,
   "id": "94e3fb6e-632a-42b6-a8cf-0cb8d7747ae0",
   "metadata": {},
   "outputs": [],
   "source": []
  },
  {
   "cell_type": "code",
   "execution_count": null,
   "id": "a4240df8-7a3e-4dd2-a7d2-6867d2c05c5c",
   "metadata": {},
   "outputs": [],
   "source": []
  }
 ],
 "metadata": {
  "kernelspec": {
   "display_name": "Python 3 (ipykernel)",
   "language": "python",
   "name": "python3"
  },
  "language_info": {
   "codemirror_mode": {
    "name": "ipython",
    "version": 3
   },
   "file_extension": ".py",
   "mimetype": "text/x-python",
   "name": "python",
   "nbconvert_exporter": "python",
   "pygments_lexer": "ipython3",
   "version": "3.12.4"
  }
 },
 "nbformat": 4,
 "nbformat_minor": 5
}
